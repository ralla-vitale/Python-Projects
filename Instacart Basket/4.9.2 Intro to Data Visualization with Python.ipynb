{
 "cells": [
  {
   "cell_type": "markdown",
   "id": "38f61485",
   "metadata": {},
   "source": [
    "# 4.9.2 Intro to Data Visualization with Python"
   ]
  },
  {
   "cell_type": "markdown",
   "id": "eab11f34",
   "metadata": {},
   "source": [
    "## 01. Import Libraries"
   ]
  },
  {
   "cell_type": "code",
   "execution_count": 2,
   "id": "e06b5079",
   "metadata": {},
   "outputs": [],
   "source": [
    "import pandas as pd\n",
    "import numpy as np\n",
    "import os\n",
    "import matplotlib.pyplot as plt\n",
    "import seaborn as sns\n",
    "import scipy"
   ]
  },
  {
   "cell_type": "markdown",
   "id": "ce02f429",
   "metadata": {},
   "source": [
    "## 02. Import Data"
   ]
  },
  {
   "cell_type": "code",
   "execution_count": 3,
   "id": "325b4400",
   "metadata": {},
   "outputs": [],
   "source": [
    "path = r'C:\\Users\\ThinkPad X250\\Documents\\Instacart Basket Analysis'"
   ]
  },
  {
   "cell_type": "code",
   "execution_count": 4,
   "id": "f64019a7",
   "metadata": {},
   "outputs": [],
   "source": [
    "df_ords_prods_cx = pd.read_pickle(os.path.join(path, '02 Data', 'Prepared Data', 'orders_products_customers.pkl'))"
   ]
  },
  {
   "cell_type": "code",
   "execution_count": 5,
   "id": "f4216d2b",
   "metadata": {
    "scrolled": true
   },
   "outputs": [
    {
     "data": {
      "text/html": [
       "<div>\n",
       "<style scoped>\n",
       "    .dataframe tbody tr th:only-of-type {\n",
       "        vertical-align: middle;\n",
       "    }\n",
       "\n",
       "    .dataframe tbody tr th {\n",
       "        vertical-align: top;\n",
       "    }\n",
       "\n",
       "    .dataframe thead th {\n",
       "        text-align: right;\n",
       "    }\n",
       "</style>\n",
       "<table border=\"1\" class=\"dataframe\">\n",
       "  <thead>\n",
       "    <tr style=\"text-align: right;\">\n",
       "      <th></th>\n",
       "      <th>order_id</th>\n",
       "      <th>user_id</th>\n",
       "      <th>eval_set</th>\n",
       "      <th>order_number</th>\n",
       "      <th>order_dow</th>\n",
       "      <th>order_hour_of_day</th>\n",
       "      <th>days_since_prior_order</th>\n",
       "      <th>product_id</th>\n",
       "      <th>add_to_cart_order</th>\n",
       "      <th>reordered</th>\n",
       "      <th>...</th>\n",
       "      <th>order_frequency_flag</th>\n",
       "      <th>first_name</th>\n",
       "      <th>last_name</th>\n",
       "      <th>gender</th>\n",
       "      <th>state</th>\n",
       "      <th>age</th>\n",
       "      <th>date_joined</th>\n",
       "      <th>number_dependants</th>\n",
       "      <th>marital_status</th>\n",
       "      <th>income</th>\n",
       "    </tr>\n",
       "  </thead>\n",
       "  <tbody>\n",
       "    <tr>\n",
       "      <th>0</th>\n",
       "      <td>2539329</td>\n",
       "      <td>1</td>\n",
       "      <td>prior</td>\n",
       "      <td>1</td>\n",
       "      <td>2</td>\n",
       "      <td>8</td>\n",
       "      <td>NaN</td>\n",
       "      <td>196</td>\n",
       "      <td>1</td>\n",
       "      <td>0</td>\n",
       "      <td>...</td>\n",
       "      <td>Non-frequent customer</td>\n",
       "      <td>Linda</td>\n",
       "      <td>Nguyen</td>\n",
       "      <td>Female</td>\n",
       "      <td>Alabama</td>\n",
       "      <td>31</td>\n",
       "      <td>2/17/2019</td>\n",
       "      <td>3</td>\n",
       "      <td>married</td>\n",
       "      <td>40423</td>\n",
       "    </tr>\n",
       "    <tr>\n",
       "      <th>1</th>\n",
       "      <td>2398795</td>\n",
       "      <td>1</td>\n",
       "      <td>prior</td>\n",
       "      <td>2</td>\n",
       "      <td>3</td>\n",
       "      <td>7</td>\n",
       "      <td>15.0</td>\n",
       "      <td>196</td>\n",
       "      <td>1</td>\n",
       "      <td>1</td>\n",
       "      <td>...</td>\n",
       "      <td>Non-frequent customer</td>\n",
       "      <td>Linda</td>\n",
       "      <td>Nguyen</td>\n",
       "      <td>Female</td>\n",
       "      <td>Alabama</td>\n",
       "      <td>31</td>\n",
       "      <td>2/17/2019</td>\n",
       "      <td>3</td>\n",
       "      <td>married</td>\n",
       "      <td>40423</td>\n",
       "    </tr>\n",
       "    <tr>\n",
       "      <th>2</th>\n",
       "      <td>473747</td>\n",
       "      <td>1</td>\n",
       "      <td>prior</td>\n",
       "      <td>3</td>\n",
       "      <td>3</td>\n",
       "      <td>12</td>\n",
       "      <td>21.0</td>\n",
       "      <td>196</td>\n",
       "      <td>1</td>\n",
       "      <td>1</td>\n",
       "      <td>...</td>\n",
       "      <td>Non-frequent customer</td>\n",
       "      <td>Linda</td>\n",
       "      <td>Nguyen</td>\n",
       "      <td>Female</td>\n",
       "      <td>Alabama</td>\n",
       "      <td>31</td>\n",
       "      <td>2/17/2019</td>\n",
       "      <td>3</td>\n",
       "      <td>married</td>\n",
       "      <td>40423</td>\n",
       "    </tr>\n",
       "    <tr>\n",
       "      <th>3</th>\n",
       "      <td>2254736</td>\n",
       "      <td>1</td>\n",
       "      <td>prior</td>\n",
       "      <td>4</td>\n",
       "      <td>4</td>\n",
       "      <td>7</td>\n",
       "      <td>29.0</td>\n",
       "      <td>196</td>\n",
       "      <td>1</td>\n",
       "      <td>1</td>\n",
       "      <td>...</td>\n",
       "      <td>Non-frequent customer</td>\n",
       "      <td>Linda</td>\n",
       "      <td>Nguyen</td>\n",
       "      <td>Female</td>\n",
       "      <td>Alabama</td>\n",
       "      <td>31</td>\n",
       "      <td>2/17/2019</td>\n",
       "      <td>3</td>\n",
       "      <td>married</td>\n",
       "      <td>40423</td>\n",
       "    </tr>\n",
       "    <tr>\n",
       "      <th>4</th>\n",
       "      <td>431534</td>\n",
       "      <td>1</td>\n",
       "      <td>prior</td>\n",
       "      <td>5</td>\n",
       "      <td>4</td>\n",
       "      <td>15</td>\n",
       "      <td>28.0</td>\n",
       "      <td>196</td>\n",
       "      <td>1</td>\n",
       "      <td>1</td>\n",
       "      <td>...</td>\n",
       "      <td>Non-frequent customer</td>\n",
       "      <td>Linda</td>\n",
       "      <td>Nguyen</td>\n",
       "      <td>Female</td>\n",
       "      <td>Alabama</td>\n",
       "      <td>31</td>\n",
       "      <td>2/17/2019</td>\n",
       "      <td>3</td>\n",
       "      <td>married</td>\n",
       "      <td>40423</td>\n",
       "    </tr>\n",
       "  </tbody>\n",
       "</table>\n",
       "<p>5 rows × 30 columns</p>\n",
       "</div>"
      ],
      "text/plain": [
       "   order_id  user_id eval_set  order_number  order_dow  order_hour_of_day  \\\n",
       "0   2539329        1    prior             1          2                  8   \n",
       "1   2398795        1    prior             2          3                  7   \n",
       "2    473747        1    prior             3          3                 12   \n",
       "3   2254736        1    prior             4          4                  7   \n",
       "4    431534        1    prior             5          4                 15   \n",
       "\n",
       "   days_since_prior_order  product_id  add_to_cart_order  reordered  ...  \\\n",
       "0                     NaN         196                  1          0  ...   \n",
       "1                    15.0         196                  1          1  ...   \n",
       "2                    21.0         196                  1          1  ...   \n",
       "3                    29.0         196                  1          1  ...   \n",
       "4                    28.0         196                  1          1  ...   \n",
       "\n",
       "    order_frequency_flag  first_name  last_name  gender    state  age  \\\n",
       "0  Non-frequent customer       Linda     Nguyen  Female  Alabama   31   \n",
       "1  Non-frequent customer       Linda     Nguyen  Female  Alabama   31   \n",
       "2  Non-frequent customer       Linda     Nguyen  Female  Alabama   31   \n",
       "3  Non-frequent customer       Linda     Nguyen  Female  Alabama   31   \n",
       "4  Non-frequent customer       Linda     Nguyen  Female  Alabama   31   \n",
       "\n",
       "  date_joined  number_dependants marital_status  income  \n",
       "0   2/17/2019                  3        married   40423  \n",
       "1   2/17/2019                  3        married   40423  \n",
       "2   2/17/2019                  3        married   40423  \n",
       "3   2/17/2019                  3        married   40423  \n",
       "4   2/17/2019                  3        married   40423  \n",
       "\n",
       "[5 rows x 30 columns]"
      ]
     },
     "execution_count": 5,
     "metadata": {},
     "output_type": "execute_result"
    }
   ],
   "source": [
    "df_ords_prods_cx.head()"
   ]
  },
  {
   "cell_type": "code",
   "execution_count": 6,
   "id": "a3be2c63",
   "metadata": {},
   "outputs": [
    {
     "name": "stdout",
     "output_type": "stream",
     "text": [
      "0               New customer\n",
      "1               New customer\n",
      "2               New customer\n",
      "3               New customer\n",
      "4               New customer\n",
      "                  ...       \n",
      "32404854    Regular customer\n",
      "32404855        New customer\n",
      "32404856        New customer\n",
      "32404857        New customer\n",
      "32404858        New customer\n",
      "Name: loyalty_flag, Length: 32404859, dtype: object\n"
     ]
    }
   ],
   "source": [
    "print(df_ords_prods_cx.loc[:, 'loyalty_flag'])"
   ]
  },
  {
   "cell_type": "code",
   "execution_count": 7,
   "id": "fe2b2059",
   "metadata": {},
   "outputs": [
    {
     "data": {
      "text/plain": [
       "(32404859, 30)"
      ]
     },
     "execution_count": 7,
     "metadata": {},
     "output_type": "execute_result"
    }
   ],
   "source": [
    "df_ords_prods_cx.shape"
   ]
  },
  {
   "cell_type": "markdown",
   "id": "35ab910d",
   "metadata": {},
   "source": [
    "## 03. Task"
   ]
  },
  {
   "cell_type": "markdown",
   "id": "f35ea094",
   "metadata": {},
   "source": [
    "### *Create a sample*"
   ]
  },
  {
   "cell_type": "code",
   "execution_count": 8,
   "id": "ae9679e6",
   "metadata": {},
   "outputs": [],
   "source": [
    "# creating new list (boolean) to test np.random.rand() <= 0.8 \n",
    "dev = np.random.rand(len(df_ords_prods_cx)) <= 0.8"
   ]
  },
  {
   "cell_type": "code",
   "execution_count": 9,
   "id": "d5e19017",
   "metadata": {},
   "outputs": [
    {
     "data": {
      "text/plain": [
       "array([ True,  True,  True, ...,  True,  True,  True])"
      ]
     },
     "execution_count": 9,
     "metadata": {},
     "output_type": "execute_result"
    }
   ],
   "source": [
    "# checking the new dev\n",
    "dev"
   ]
  },
  {
   "cell_type": "code",
   "execution_count": 10,
   "id": "faf7fe88",
   "metadata": {},
   "outputs": [],
   "source": [
    "# create big sample\n",
    "big = df_ords_prods_cx[dev]"
   ]
  },
  {
   "cell_type": "code",
   "execution_count": 11,
   "id": "da9843ee",
   "metadata": {},
   "outputs": [],
   "source": [
    "# create small sample\n",
    "small = df_ords_prods_cx[~dev]"
   ]
  },
  {
   "cell_type": "markdown",
   "id": "73b89ece",
   "metadata": {},
   "source": [
    "## __I. Bar Chart : “loyalty_flag”__"
   ]
  },
  {
   "cell_type": "code",
   "execution_count": 12,
   "id": "d91d0606",
   "metadata": {
    "scrolled": true
   },
   "outputs": [
    {
     "data": {
      "image/png": "[encoded data removed]",
      "text/plain": [
       "<Figure size 432x288 with 1 Axes>"
      ]
     },
     "metadata": {
      "needs_background": "light"
     },
     "output_type": "display_data"
    }
   ],
   "source": [
    "# creating  bar charts\n",
    "loyal_bar = df_ords_prods_cx['loyalty_flag'].value_counts().sort_index().plot.bar()"
   ]
  },
  {
   "cell_type": "code",
   "execution_count": 13,
   "id": "6f77da05",
   "metadata": {},
   "outputs": [
    {
     "data": {
      "text/plain": [
       "Regular customer    15876776\n",
       "Loyal customer      10284093\n",
       "New customer         6243990\n",
       "Name: loyalty_flag, dtype: int64"
      ]
     },
     "execution_count": 13,
     "metadata": {},
     "output_type": "execute_result"
    }
   ],
   "source": [
    "# print frequency\n",
    "df_ords_prods_cx['loyalty_flag'].value_counts()"
   ]
  },
  {
   "cell_type": "code",
   "execution_count": 14,
   "id": "cde36269",
   "metadata": {},
   "outputs": [
    {
     "data": {
      "text/plain": [
       "Loyal customer      10284093\n",
       "New customer         6243990\n",
       "Regular customer    15876776\n",
       "Name: loyalty_flag, dtype: int64"
      ]
     },
     "execution_count": 14,
     "metadata": {},
     "output_type": "execute_result"
    }
   ],
   "source": [
    "# ordered largest to smallest index\n",
    "df_ords_prods_cx['loyalty_flag'].value_counts().sort_index()"
   ]
  },
  {
   "cell_type": "code",
   "execution_count": 15,
   "id": "25709c57",
   "metadata": {},
   "outputs": [
    {
     "data": {
      "image/png": "[encoded data removed]",
      "text/plain": [
       "<Figure size 432x288 with 1 Axes>"
      ]
     },
     "metadata": {
      "needs_background": "light"
     },
     "output_type": "display_data"
    }
   ],
   "source": [
    "# adding colors\n",
    "loyal_bar = df_ords_prods_cx['loyalty_flag'].value_counts().sort_index().plot.bar(color =['orange', 'red', 'yellow'])"
   ]
  },
  {
   "cell_type": "markdown",
   "id": "8f72fd29",
   "metadata": {},
   "source": [
    "### _Observation: Regular customers has the higher number than the Loyal customers._"
   ]
  },
  {
   "cell_type": "markdown",
   "id": "93cc1efc",
   "metadata": {},
   "source": [
    "## __II. Histogram : “order_hour_of_day”__"
   ]
  },
  {
   "cell_type": "code",
   "execution_count": 16,
   "id": "29bd319d",
   "metadata": {},
   "outputs": [
    {
     "data": {
      "image/png": "[encoded data removed]",
      "text/plain": [
       "<Figure size 432x288 with 1 Axes>"
      ]
     },
     "metadata": {
      "needs_background": "light"
     },
     "output_type": "display_data"
    }
   ],
   "source": [
    "order_hr_hist = df_ords_prods_cx['order_hour_of_day'].plot.hist(bins = 100)"
   ]
  },
  {
   "cell_type": "code",
   "execution_count": 17,
   "id": "cad18c5f",
   "metadata": {},
   "outputs": [
    {
     "data": {
      "text/plain": [
       "10    2761760\n",
       "11    2736140\n",
       "14    2689136\n",
       "15    2662144\n",
       "13    2660954\n",
       "12    2618532\n",
       "16    2535202\n",
       "9     2454203\n",
       "17    2087654\n",
       "8     1718118\n",
       "18    1636502\n",
       "19    1258305\n",
       "20     976156\n",
       "7      891054\n",
       "21     795637\n",
       "22     634225\n",
       "23     402316\n",
       "6      290493\n",
       "0      218769\n",
       "1      115700\n",
       "5       87961\n",
       "2       69375\n",
       "4       53242\n",
       "3       51281\n",
       "Name: order_hour_of_day, dtype: int64"
      ]
     },
     "execution_count": 17,
     "metadata": {},
     "output_type": "execute_result"
    }
   ],
   "source": [
    "# frequency\n",
    "df_ords_prods_cx['order_hour_of_day'].value_counts(dropna=False)"
   ]
  },
  {
   "cell_type": "markdown",
   "id": "72784d1b",
   "metadata": {},
   "source": [
    "### _Observation: 9:00 - 17:00 has the highest number in orders in a day._"
   ]
  },
  {
   "cell_type": "markdown",
   "id": "7a3e8b63",
   "metadata": {},
   "source": [
    "## __III. Scatterplot : Connection between age and spending power (income)__"
   ]
  },
  {
   "cell_type": "code",
   "execution_count": 18,
   "id": "a45566c6",
   "metadata": {},
   "outputs": [],
   "source": [
    "df_age_income = small[['age','income']]"
   ]
  },
  {
   "cell_type": "code",
   "execution_count": 19,
   "id": "ab862c35",
   "metadata": {},
   "outputs": [
    {
     "name": "stdout",
     "output_type": "stream",
     "text": [
      "<class 'pandas.core.frame.DataFrame'>\n",
      "Int64Index: 6479579 entries, 9 to 32404841\n",
      "Data columns (total 2 columns):\n",
      " #   Column  Dtype\n",
      "---  ------  -----\n",
      " 0   age     int64\n",
      " 1   income  int64\n",
      "dtypes: int64(2)\n",
      "memory usage: 148.3 MB\n"
     ]
    }
   ],
   "source": [
    "df_age_income.info()"
   ]
  },
  {
   "cell_type": "code",
   "execution_count": 20,
   "id": "0ef0c6a1",
   "metadata": {},
   "outputs": [
    {
     "data": {
      "image/png": "[encoded data removed]",
      "text/plain": [
       "<Figure size 432x288 with 1 Axes>"
      ]
     },
     "metadata": {
      "needs_background": "light"
     },
     "output_type": "display_data"
    }
   ],
   "source": [
    "age_income_scat = sns.scatterplot(x = 'age', y = 'income',data = df_age_income)"
   ]
  },
  {
   "cell_type": "markdown",
   "id": "19474214",
   "metadata": {},
   "source": [
    "### _Observation: The higher the age, the higher the income. The majority ages 50 years and over has the higher number in customers._"
   ]
  },
  {
   "cell_type": "markdown",
   "id": "13c15205",
   "metadata": {},
   "source": [
    "## __IV. Line Chart : Difference in expenditure (the “prices” column) depending on the hour of the day.__"
   ]
  },
  {
   "cell_type": "code",
   "execution_count": 21,
   "id": "4841f925",
   "metadata": {},
   "outputs": [],
   "source": [
    "df_order_price = small[['order_hour_of_day','prices']]"
   ]
  },
  {
   "cell_type": "code",
   "execution_count": 22,
   "id": "fc48c9f8",
   "metadata": {},
   "outputs": [
    {
     "data": {
      "text/html": [
       "<div>\n",
       "<style scoped>\n",
       "    .dataframe tbody tr th:only-of-type {\n",
       "        vertical-align: middle;\n",
       "    }\n",
       "\n",
       "    .dataframe tbody tr th {\n",
       "        vertical-align: top;\n",
       "    }\n",
       "\n",
       "    .dataframe thead th {\n",
       "        text-align: right;\n",
       "    }\n",
       "</style>\n",
       "<table border=\"1\" class=\"dataframe\">\n",
       "  <thead>\n",
       "    <tr style=\"text-align: right;\">\n",
       "      <th></th>\n",
       "      <th>order_hour_of_day</th>\n",
       "      <th>prices</th>\n",
       "    </tr>\n",
       "  </thead>\n",
       "  <tbody>\n",
       "    <tr>\n",
       "      <th>9</th>\n",
       "      <td>8</td>\n",
       "      <td>9.0</td>\n",
       "    </tr>\n",
       "    <tr>\n",
       "      <th>10</th>\n",
       "      <td>8</td>\n",
       "      <td>12.5</td>\n",
       "    </tr>\n",
       "    <tr>\n",
       "      <th>18</th>\n",
       "      <td>14</td>\n",
       "      <td>4.4</td>\n",
       "    </tr>\n",
       "    <tr>\n",
       "      <th>20</th>\n",
       "      <td>8</td>\n",
       "      <td>4.4</td>\n",
       "    </tr>\n",
       "    <tr>\n",
       "      <th>24</th>\n",
       "      <td>7</td>\n",
       "      <td>1.0</td>\n",
       "    </tr>\n",
       "  </tbody>\n",
       "</table>\n",
       "</div>"
      ],
      "text/plain": [
       "    order_hour_of_day  prices\n",
       "9                   8     9.0\n",
       "10                  8    12.5\n",
       "18                 14     4.4\n",
       "20                  8     4.4\n",
       "24                  7     1.0"
      ]
     },
     "execution_count": 22,
     "metadata": {},
     "output_type": "execute_result"
    }
   ],
   "source": [
    "df_order_price.head()"
   ]
  },
  {
   "cell_type": "code",
   "execution_count": 23,
   "id": "927220c8",
   "metadata": {},
   "outputs": [
    {
     "data": {
      "text/plain": [
       "<bound method DataFrame.info of           order_hour_of_day  prices\n",
       "9                         8     9.0\n",
       "10                        8    12.5\n",
       "18                       14     4.4\n",
       "20                        8     4.4\n",
       "24                        7     1.0\n",
       "...                     ...     ...\n",
       "32404824                 16    12.5\n",
       "32404827                  7     3.5\n",
       "32404833                 22    10.7\n",
       "32404836                  1    10.7\n",
       "32404841                 12    10.7\n",
       "\n",
       "[6479579 rows x 2 columns]>"
      ]
     },
     "execution_count": 23,
     "metadata": {},
     "output_type": "execute_result"
    }
   ],
   "source": [
    "df_order_price.info"
   ]
  },
  {
   "cell_type": "code",
   "execution_count": 24,
   "id": "f5e8eaa3",
   "metadata": {},
   "outputs": [
    {
     "data": {
      "image/png": "[encoded data removed]",
      "text/plain": [
       "<Figure size 432x288 with 1 Axes>"
      ]
     },
     "metadata": {
      "needs_background": "light"
     },
     "output_type": "display_data"
    }
   ],
   "source": [
    "order_hr_price_ln = sns.lineplot(data = df_order_price, x = 'order_hour_of_day', y = 'prices')"
   ]
  },
  {
   "cell_type": "markdown",
   "id": "476d4666",
   "metadata": {},
   "source": [
    "### _Observation: Highest orders in a day are the orders that has the lowest prices._"
   ]
  },
  {
   "cell_type": "markdown",
   "id": "280c4e92",
   "metadata": {},
   "source": [
    "### __V. Determine whether there’s a connection between age and family situation by creating a line chart exploring the connections between age and number of dependents.__"
   ]
  },
  {
   "cell_type": "code",
   "execution_count": 25,
   "id": "3af546b3",
   "metadata": {},
   "outputs": [
    {
     "name": "stdout",
     "output_type": "stream",
     "text": [
      "0           3\n",
      "1           3\n",
      "2           3\n",
      "3           3\n",
      "4           3\n",
      "           ..\n",
      "32404854    0\n",
      "32404855    3\n",
      "32404856    3\n",
      "32404857    3\n",
      "32404858    3\n",
      "Name: number_dependants, Length: 32404859, dtype: int64\n"
     ]
    }
   ],
   "source": [
    "print(df_ords_prods_cx.loc[:, 'number_dependants'])"
   ]
  },
  {
   "cell_type": "code",
   "execution_count": 26,
   "id": "763fb6b1",
   "metadata": {},
   "outputs": [],
   "source": [
    "df_dependent_age = small[['number_dependants','age']]"
   ]
  },
  {
   "cell_type": "code",
   "execution_count": 27,
   "id": "8e885638",
   "metadata": {},
   "outputs": [
    {
     "data": {
      "text/html": [
       "<div>\n",
       "<style scoped>\n",
       "    .dataframe tbody tr th:only-of-type {\n",
       "        vertical-align: middle;\n",
       "    }\n",
       "\n",
       "    .dataframe tbody tr th {\n",
       "        vertical-align: top;\n",
       "    }\n",
       "\n",
       "    .dataframe thead th {\n",
       "        text-align: right;\n",
       "    }\n",
       "</style>\n",
       "<table border=\"1\" class=\"dataframe\">\n",
       "  <thead>\n",
       "    <tr style=\"text-align: right;\">\n",
       "      <th></th>\n",
       "      <th>number_dependants</th>\n",
       "      <th>age</th>\n",
       "    </tr>\n",
       "  </thead>\n",
       "  <tbody>\n",
       "    <tr>\n",
       "      <th>9</th>\n",
       "      <td>3</td>\n",
       "      <td>31</td>\n",
       "    </tr>\n",
       "    <tr>\n",
       "      <th>10</th>\n",
       "      <td>3</td>\n",
       "      <td>31</td>\n",
       "    </tr>\n",
       "    <tr>\n",
       "      <th>18</th>\n",
       "      <td>3</td>\n",
       "      <td>31</td>\n",
       "    </tr>\n",
       "    <tr>\n",
       "      <th>20</th>\n",
       "      <td>3</td>\n",
       "      <td>31</td>\n",
       "    </tr>\n",
       "    <tr>\n",
       "      <th>24</th>\n",
       "      <td>3</td>\n",
       "      <td>31</td>\n",
       "    </tr>\n",
       "  </tbody>\n",
       "</table>\n",
       "</div>"
      ],
      "text/plain": [
       "    number_dependants  age\n",
       "9                   3   31\n",
       "10                  3   31\n",
       "18                  3   31\n",
       "20                  3   31\n",
       "24                  3   31"
      ]
     },
     "execution_count": 27,
     "metadata": {},
     "output_type": "execute_result"
    }
   ],
   "source": [
    "df_dependent_age.head()"
   ]
  },
  {
   "cell_type": "code",
   "execution_count": 28,
   "id": "97870266",
   "metadata": {},
   "outputs": [
    {
     "data": {
      "text/plain": [
       "<bound method DataFrame.info of           number_dependants  age\n",
       "9                         3   31\n",
       "10                        3   31\n",
       "18                        3   31\n",
       "20                        3   31\n",
       "24                        3   31\n",
       "...                     ...  ...\n",
       "32404824                  0   19\n",
       "32404827                  1   38\n",
       "32404833                  0   25\n",
       "32404836                  0   25\n",
       "32404841                  0   25\n",
       "\n",
       "[6479579 rows x 2 columns]>"
      ]
     },
     "execution_count": 28,
     "metadata": {},
     "output_type": "execute_result"
    }
   ],
   "source": [
    "df_dependent_age.info"
   ]
  },
  {
   "cell_type": "code",
   "execution_count": 29,
   "id": "0dcda425",
   "metadata": {},
   "outputs": [
    {
     "data": {
      "image/png": "[encoded data removed]",
      "text/plain": [
       "<Figure size 432x288 with 1 Axes>"
      ]
     },
     "metadata": {
      "needs_background": "light"
     },
     "output_type": "display_data"
    }
   ],
   "source": [
    "dependent_age_ln = sns.lineplot(data = df_dependent_age, x = 'age', y = 'number_dependants')"
   ]
  },
  {
   "cell_type": "markdown",
   "id": "d37000ae",
   "metadata": {},
   "source": [
    "### _Observation: Almost equally distributed the dependents and ages._"
   ]
  },
  {
   "cell_type": "markdown",
   "id": "308bbcf5",
   "metadata": {},
   "source": [
    "## 04. Export"
   ]
  },
  {
   "cell_type": "code",
   "execution_count": 30,
   "id": "8dad7541",
   "metadata": {},
   "outputs": [],
   "source": [
    "path = r'C:\\Users\\ThinkPad X250\\Documents\\Instacart Basket Analysis\\04 Analysis\\Visualizations'"
   ]
  },
  {
   "cell_type": "code",
   "execution_count": 31,
   "id": "74116a35",
   "metadata": {},
   "outputs": [],
   "source": [
    "loyal_bar.figure.savefig(os.path.join(path, 'loyal_bar.png'))"
   ]
  },
  {
   "cell_type": "code",
   "execution_count": 32,
   "id": "e9105502",
   "metadata": {},
   "outputs": [],
   "source": [
    "order_hr_hist.figure.savefig(os.path.join(path, 'order_hr_hist.png'))"
   ]
  },
  {
   "cell_type": "code",
   "execution_count": 33,
   "id": "42405e9e",
   "metadata": {},
   "outputs": [],
   "source": [
    "age_income_scat.figure.savefig(os.path.join(path, 'age_income_scat.png'))"
   ]
  },
  {
   "cell_type": "code",
   "execution_count": 34,
   "id": "d4631eb6",
   "metadata": {},
   "outputs": [],
   "source": [
    "order_hr_price_ln.figure.savefig(os.path.join(path, 'order_hr_price_ln.png'))"
   ]
  },
  {
   "cell_type": "code",
   "execution_count": 35,
   "id": "ed535b4d",
   "metadata": {},
   "outputs": [],
   "source": [
    "dependent_age_ln.figure.savefig(os.path.join(path, 'dependent_age_ln.png'))"
   ]
  }
 ],
 "metadata": {
  "kernelspec": {
   "display_name": "Python 3 (ipykernel)",
   "language": "python",
   "name": "python3"
  },
  "language_info": {
   "codemirror_mode": {
    "name": "ipython",
    "version": 3
   },
   "file_extension": ".py",
   "mimetype": "text/x-python",
   "name": "python",
   "nbconvert_exporter": "python",
   "pygments_lexer": "ipython3",
   "version": "3.10.4"
  }
 },
 "nbformat": 4,
 "nbformat_minor": 5
}
