{
 "cells": [
  {
   "cell_type": "markdown",
   "id": "08c617cf",
   "metadata": {},
   "source": [
    "# 4.2 Importing libraries and Python data types"
   ]
  },
  {
   "cell_type": "markdown",
   "id": "22e62a4e",
   "metadata": {},
   "source": [
    "### 01. Import libraries"
   ]
  },
  {
   "cell_type": "code",
   "execution_count": 2,
   "id": "72b64829",
   "metadata": {},
   "outputs": [],
   "source": [
    "import pandas as pd\n",
    "import numpy as np\n",
    "import os"
   ]
  },
  {
   "cell_type": "markdown",
   "id": "17fb9217",
   "metadata": {},
   "source": [
    "### 02. Data Types"
   ]
  },
  {
   "cell_type": "markdown",
   "id": "f2dfa42d",
   "metadata": {},
   "source": [
    "#### > Numeric: Integer"
   ]
  },
  {
   "cell_type": "code",
   "execution_count": 7,
   "id": "17cabb43",
   "metadata": {},
   "outputs": [],
   "source": [
    "a =  899"
   ]
  },
  {
   "cell_type": "code",
   "execution_count": 8,
   "id": "46cdcf25",
   "metadata": {},
   "outputs": [
    {
     "data": {
      "text/plain": [
       "int"
      ]
     },
     "execution_count": 8,
     "metadata": {},
     "output_type": "execute_result"
    }
   ],
   "source": [
    "type(a)"
   ]
  },
  {
   "cell_type": "markdown",
   "id": "8f5517fe",
   "metadata": {},
   "source": [
    "#### > Numeric: Float"
   ]
  },
  {
   "cell_type": "code",
   "execution_count": 9,
   "id": "78abe255",
   "metadata": {},
   "outputs": [],
   "source": [
    "b = 89.9"
   ]
  },
  {
   "cell_type": "code",
   "execution_count": 10,
   "id": "69e4a3ba",
   "metadata": {},
   "outputs": [
    {
     "data": {
      "text/plain": [
       "float"
      ]
     },
     "execution_count": 10,
     "metadata": {},
     "output_type": "execute_result"
    }
   ],
   "source": [
    "type(b)"
   ]
  },
  {
   "cell_type": "markdown",
   "id": "ffa3ac49",
   "metadata": {},
   "source": [
    "#### > Boolean"
   ]
  },
  {
   "cell_type": "code",
   "execution_count": 11,
   "id": "bcee9927",
   "metadata": {},
   "outputs": [],
   "source": [
    "c = True"
   ]
  },
  {
   "cell_type": "code",
   "execution_count": 12,
   "id": "5a6146ba",
   "metadata": {},
   "outputs": [
    {
     "data": {
      "text/plain": [
       "bool"
      ]
     },
     "execution_count": 12,
     "metadata": {},
     "output_type": "execute_result"
    }
   ],
   "source": [
    "type(c)"
   ]
  },
  {
   "cell_type": "markdown",
   "id": "63cecda9",
   "metadata": {},
   "source": [
    "#### > Sequence: String"
   ]
  },
  {
   "cell_type": "code",
   "execution_count": 13,
   "id": "9a961d43",
   "metadata": {},
   "outputs": [],
   "source": [
    "d = 'Cat'"
   ]
  },
  {
   "cell_type": "code",
   "execution_count": 14,
   "id": "372dcc3a",
   "metadata": {},
   "outputs": [
    {
     "data": {
      "text/plain": [
       "str"
      ]
     },
     "execution_count": 14,
     "metadata": {},
     "output_type": "execute_result"
    }
   ],
   "source": [
    "type(d)"
   ]
  },
  {
   "cell_type": "markdown",
   "id": "ac38e0f9",
   "metadata": {},
   "source": [
    "#### Procedural with Data Types"
   ]
  },
  {
   "cell_type": "markdown",
   "id": "0bf7d415",
   "metadata": {},
   "source": [
    "##### Code 3 different ways of reaching a result of 100 by adding or subtracting numeric variables."
   ]
  },
  {
   "cell_type": "code",
   "execution_count": 1,
   "id": "1b336748",
   "metadata": {},
   "outputs": [
    {
     "name": "stdout",
     "output_type": "stream",
     "text": [
      "100\n"
     ]
    }
   ],
   "source": [
    "# 1 addition\n",
    "\n",
    "e = 50\n",
    "f = 50\n",
    "\n",
    "g = e + f\n",
    "\n",
    "print(g)"
   ]
  },
  {
   "cell_type": "code",
   "execution_count": 2,
   "id": "0facf2b5",
   "metadata": {},
   "outputs": [
    {
     "name": "stdout",
     "output_type": "stream",
     "text": [
      "100\n"
     ]
    }
   ],
   "source": [
    "# 2 substaction\n",
    "\n",
    "h = 180\n",
    "i = 80\n",
    "\n",
    "j = h - i\n",
    "\n",
    "print(j)"
   ]
  },
  {
   "cell_type": "code",
   "execution_count": 3,
   "id": "2bd0a478",
   "metadata": {},
   "outputs": [
    {
     "name": "stdout",
     "output_type": "stream",
     "text": [
      "100\n"
     ]
    }
   ],
   "source": [
    "# 3 addtion and substraction\n",
    "\n",
    "k = 77\n",
    "l = 145\n",
    "m = 122\n",
    "\n",
    "n = (k+l) - m\n",
    "\n",
    "print(n)"
   ]
  },
  {
   "cell_type": "markdown",
   "id": "b7e234ee",
   "metadata": {},
   "source": [
    "##### Code 2 floating-point variables and divide them by each other."
   ]
  },
  {
   "cell_type": "code",
   "execution_count": 4,
   "id": "2ffb7131",
   "metadata": {},
   "outputs": [
    {
     "name": "stdout",
     "output_type": "stream",
     "text": [
      "11.1\n"
     ]
    }
   ],
   "source": [
    "# 1 \n",
    "\n",
    "o = 55.5\n",
    "p = 5\n",
    "\n",
    "q = o / p\n",
    "\n",
    "print(q)"
   ]
  },
  {
   "cell_type": "code",
   "execution_count": 5,
   "id": "e3fd5763",
   "metadata": {},
   "outputs": [
    {
     "name": "stdout",
     "output_type": "stream",
     "text": [
      "7.0\n"
     ]
    }
   ],
   "source": [
    "# 2 \n",
    "\n",
    "r = 70\n",
    "s = 10\n",
    "\n",
    "t = r / s\n",
    "\n",
    "print(t)"
   ]
  },
  {
   "cell_type": "markdown",
   "id": "e812d54d",
   "metadata": {},
   "source": [
    "##### Construct a short word made of separate strings (you’ll need to concatenate some strings!). "
   ]
  },
  {
   "cell_type": "code",
   "execution_count": 6,
   "id": "68a63de0",
   "metadata": {},
   "outputs": [
    {
     "name": "stdout",
     "output_type": "stream",
     "text": [
      "jupyter\n"
     ]
    }
   ],
   "source": [
    "u = 'ju'\n",
    "v = 'py'\n",
    "w = 'ter'\n",
    "\n",
    "x = u + v + w\n",
    "\n",
    "print(x)"
   ]
  },
  {
   "cell_type": "markdown",
   "id": "decfc25a",
   "metadata": {},
   "source": [
    "#####\tConstruct 2 short sentences made of separate strings. "
   ]
  },
  {
   "cell_type": "code",
   "execution_count": 8,
   "id": "14607ee8",
   "metadata": {},
   "outputs": [
    {
     "name": "stdout",
     "output_type": "stream",
     "text": [
      "Today's topic is Importing Libraries and  Python Data Types\n"
     ]
    }
   ],
   "source": [
    "y = 'Today\\'s topic is Importing Libraries and '\n",
    "z = 'Python Data Types'\n",
    "\n",
    "print(y, z)"
   ]
  }
 ],
 "metadata": {
  "kernelspec": {
   "display_name": "Python 3 (ipykernel)",
   "language": "python",
   "name": "python3"
  },
  "language_info": {
   "codemirror_mode": {
    "name": "ipython",
    "version": 3
   },
   "file_extension": ".py",
   "mimetype": "text/x-python",
   "name": "python",
   "nbconvert_exporter": "python",
   "pygments_lexer": "ipython3",
   "version": "3.10.4"
  }
 },
 "nbformat": 4,
 "nbformat_minor": 5
}
